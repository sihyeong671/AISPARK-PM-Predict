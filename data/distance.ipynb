{
 "cells": [
  {
   "cell_type": "code",
   "execution_count": 5,
   "metadata": {},
   "outputs": [],
   "source": [
    "from collections import defaultdict\n",
    "from haversine import haversine, Unit\n",
    "import pandas as pd"
   ]
  },
  {
   "attachments": {},
   "cell_type": "markdown",
   "metadata": {},
   "source": [
    "가장 가까운 AWS 세곳 정하고 거리 가중치 평균으로 pm을 구하는 장소의 정보를 추출"
   ]
  },
  {
   "cell_type": "code",
   "execution_count": 3,
   "metadata": {},
   "outputs": [],
   "source": [
    "df_pm = pd.read_csv(\"../dataset/META/pmmap.csv\")\n",
    "df_aws = pd.read_csv(\"../dataset/META/awsmap.csv\")"
   ]
  },
  {
   "cell_type": "code",
   "execution_count": 4,
   "metadata": {},
   "outputs": [
    {
     "name": "stdout",
     "output_type": "stream",
     "text": [
      "Index(['Location', 'Latitude', 'Longitude', 'Description'], dtype='object')\n",
      "Index(['Location', 'Latitude', 'Longitude', 'Description'], dtype='object')\n"
     ]
    }
   ],
   "source": [
    "print(df_pm.columns)\n",
    "print(df_aws.columns)"
   ]
  },
  {
   "cell_type": "code",
   "execution_count": 7,
   "metadata": {},
   "outputs": [],
   "source": [
    "pm_dict = defaultdict(list)\n",
    "for _, pm in df_pm.iterrows():\n",
    "  pm_loc = (pm.Latitude, pm.Longitude)\n",
    "  for _, aws in df_aws.iterrows():\n",
    "    aws_loc = (aws.Latitude, aws.Longitude)\n",
    "    dist = haversine(pm_loc, aws_loc, unit='km')\n",
    "    pm_dict[pm.Location].append((aws.Location, dist))\n",
    "  pm_dict[pm.Location] = sorted(pm_dict[pm.Location], key=lambda x: x[1])"
   ]
  },
  {
   "cell_type": "code",
   "execution_count": 10,
   "metadata": {},
   "outputs": [
    {
     "name": "stdout",
     "output_type": "stream",
     "text": [
      "아름동 [('세종고운', 2.2105947966754917), ('세종금남', 6.292550002714177), ('세종연서', 6.766060134561537)]\n",
      "신흥동 [('세종연서', 3.1012504820078726), ('세종고운', 8.25358008663463), ('세종전의', 13.63762495459502)]\n",
      "노은동 [('계룡', 9.274425951353304), ('세종금남', 10.977421291207738), ('오월드', 11.012499019870615)]\n",
      "문창동 [('오월드', 4.734752824396289), ('세천', 5.6281745632929745), ('장동', 10.706504339624287)]\n",
      "읍내동 [('장동', 4.92556117603846), ('세천', 7.696410749090288), ('오월드', 9.225837414564156)]\n",
      "정림동 [('오월드', 2.9939293807163407), ('계룡', 11.335939266592217), ('세천', 12.057483668667135)]\n",
      "공주 [('공주', 4.27560263214937), ('정안', 11.801445343687368), ('세종금남', 13.440825452616403)]\n",
      "논산 [('논산', 2.3467117991405724), ('계룡', 18.722189806002035), ('양화', 21.693853721843123)]\n",
      "대천2동 [('대천항', 8.475422199718917), ('청양', 18.678157233576524), ('춘장대', 20.652323055396103)]\n",
      "독곶리 [('대산', 2.579367360038311), ('안도', 20.101550574599752), ('당진', 22.83985681967565)]\n",
      "동문동 [('태안', 14.34810137627412), ('당진', 18.86635459172713), ('홍북', 23.958308056615127)]\n",
      "모종동 [('아산', 15.022096718473472), ('성거', 16.472604370672563), ('예산', 18.397436385291186)]\n",
      "신방동 [('성거', 11.118416211776342), ('세종전의', 12.427985843257987), ('아산', 23.780311805841354)]\n",
      "예산군 [('예산', 7.8249626216913075), ('유구', 16.97574338913417), ('아산', 18.7829927813417)]\n",
      "이원면 [('태안', 12.447699668099283), ('안도', 14.049930482061132), ('대산', 18.353433574934602)]\n",
      "홍성읍 [('홍북', 3.455848880517273), ('홍성죽도', 20.867754538454218), ('예산', 21.443027559656677)]\n",
      "성성동 [('성거', 4.401335206082456), ('세종전의', 17.428634932439014), ('아산', 24.601594292232182)]\n"
     ]
    }
   ],
   "source": [
    "for k, v in pm_dict.items():\n",
    "  print(k, v[:3])"
   ]
  },
  {
   "cell_type": "code",
   "execution_count": null,
   "metadata": {},
   "outputs": [],
   "source": []
  }
 ],
 "metadata": {
  "kernelspec": {
   "display_name": "aifactory-cLCMmIYn",
   "language": "python",
   "name": "python3"
  },
  "language_info": {
   "codemirror_mode": {
    "name": "ipython",
    "version": 3
   },
   "file_extension": ".py",
   "mimetype": "text/x-python",
   "name": "python",
   "nbconvert_exporter": "python",
   "pygments_lexer": "ipython3",
   "version": "3.9.13"
  },
  "orig_nbformat": 4
 },
 "nbformat": 4,
 "nbformat_minor": 2
}
