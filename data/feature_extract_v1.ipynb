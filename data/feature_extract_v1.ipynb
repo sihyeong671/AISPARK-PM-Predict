{
 "cells": [
  {
   "attachments": {},
   "cell_type": "markdown",
   "metadata": {},
   "source": [
    "- 가장 가까운 AWS 세곳 정하고 거리 가중치 평균\n",
    "- 바람 정보 X, Y 벡터 정보로 변환"
   ]
  },
  {
   "cell_type": "code",
   "execution_count": 1,
   "metadata": {},
   "outputs": [],
   "source": [
    "from collections import defaultdict\n",
    "from haversine import haversine\n",
    "import pandas as pd\n",
    "import numpy as np\n",
    "import os"
   ]
  },
  {
   "cell_type": "code",
   "execution_count": 2,
   "metadata": {},
   "outputs": [],
   "source": [
    "df_pm = pd.read_csv(\"../dataset/META/pmmap.csv\")\n",
    "df_aws = pd.read_csv(\"../dataset/META/awsmap.csv\")"
   ]
  },
  {
   "cell_type": "code",
   "execution_count": 3,
   "metadata": {},
   "outputs": [],
   "source": [
    "pm_dict = defaultdict(list)\n",
    "for _, pm in df_pm.iterrows():\n",
    "  pm_loc = (pm.Latitude, pm.Longitude)\n",
    "  for _, aws in df_aws.iterrows():\n",
    "    aws_loc = (aws.Latitude, aws.Longitude)\n",
    "    dist = haversine(pm_loc, aws_loc, unit='km')\n",
    "    pm_dict[pm.Location].append((aws.Location, dist))\n",
    "  pm_dict[pm.Location] = sorted(pm_dict[pm.Location], key=lambda x: x[1])[:3]"
   ]
  },
  {
   "cell_type": "code",
   "execution_count": 4,
   "metadata": {},
   "outputs": [],
   "source": [
    "os.makedirs(f\"../dataset/CUSTOM_v1\", exist_ok=True)\n",
    "for pm, aws_list in pm_dict.items():\n",
    "    df_pm = pd.read_csv(f\"../dataset/TRAIN/{pm}.csv\")\n",
    "    df_pm[\"PM2.5\"] = df_pm[\"PM2.5\"].interpolate()\n",
    "    \n",
    "    aws_dfs = []\n",
    "    aws_weights = []\n",
    "    for aws_name, aws_weight in aws_list:\n",
    "        df = pd.read_csv(f\"../dataset/TRAIN_AWS/{aws_name}.csv\")\n",
    "        df.fillna(method=\"ffill\", inplace=True)\n",
    "        aws_dfs.append(df)\n",
    "        aws_weights.append(aws_weight)\n",
    "        \n",
    "    aws_weights = [round(w, 3) for w in aws_weights]\n",
    "    s = sum(aws_weights)\n",
    "    aws_weights = [round(w / s, 3) for w in aws_weights]\n",
    "    \n",
    "    cols = [np.zeros(len(df_pm)) for _ in range(5)]\n",
    "    for aws_df, w in zip(aws_dfs, aws_weights):\n",
    "        cols[0] += np.array(aws_df[\"기온(°C)\"]) * w\n",
    "        cols[1] += np.array(aws_df[\"풍향(deg)\"]) * w\n",
    "        cols[2] += np.array(aws_df[\"풍속(m/s)\"]) * w\n",
    "        cols[3] += np.array(aws_df[\"강수량(mm)\"]) * w\n",
    "        cols[4] += np.array(aws_df[\"습도(%)\"]) * w\n",
    "\n",
    "    df_pm[\"기온(°C)\"] = cols[0]\n",
    "    df_pm[\"풍향(deg)\"] = cols[1]\n",
    "    df_pm[\"풍속(m/s)\"] = cols[2]\n",
    "    df_pm[\"강수량(mm)\"] = cols[3]\n",
    "    df_pm[\"습도(%)\"] = cols[4]\n",
    "    # change wind info to vector\n",
    "    df_pm[\"풍향(deg)\"] = df_pm[\"풍향(deg)\"].apply(lambda x: x * 359)\n",
    "    wv = df_pm['풍속(m/s)'].values\n",
    "    wd_rad = df_pm['풍향(deg)'].values * np.pi / 180\n",
    "    df_pm['Wx'] = wv*np.cos(wd_rad)\n",
    "    df_pm['Wy'] = wv*np.sin(wd_rad)\n",
    "    df_pm.drop(columns=[\"풍향(deg)\", \"풍속(m/s)\"], inplace=True)\n",
    "    df_pm.to_csv(f\"../dataset/CUSTOM_v1/{pm}.csv\", index=False)"
   ]
  }
 ],
 "metadata": {
  "kernelspec": {
   "display_name": "aifactory-cLCMmIYn",
   "language": "python",
   "name": "python3"
  },
  "language_info": {
   "codemirror_mode": {
    "name": "ipython",
    "version": 3
   },
   "file_extension": ".py",
   "mimetype": "text/x-python",
   "name": "python",
   "nbconvert_exporter": "python",
   "pygments_lexer": "ipython3",
   "version": "3.9.13"
  },
  "orig_nbformat": 4
 },
 "nbformat": 4,
 "nbformat_minor": 2
}
