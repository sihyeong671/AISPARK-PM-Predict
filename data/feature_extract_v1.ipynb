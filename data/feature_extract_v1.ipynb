{
 "cells": [
  {
   "attachments": {},
   "cell_type": "markdown",
   "metadata": {},
   "source": [
    "- 가장 가까운 AWS 세곳 정하고 거리 가중치 평균\n",
    "- 바람 정보 X, Y 벡터 정보로 변환"
   ]
  },
  {
   "cell_type": "code",
   "execution_count": 7,
   "metadata": {},
   "outputs": [],
   "source": [
    "from collections import defaultdict\n",
    "from haversine import haversine\n",
    "import pandas as pd\n",
    "import numpy as np\n",
    "import os"
   ]
  },
  {
   "cell_type": "code",
   "execution_count": 8,
   "metadata": {},
   "outputs": [],
   "source": [
    "df_pm = pd.read_csv(\"../dataset/META/pmmap.csv\")\n",
    "df_aws = pd.read_csv(\"../dataset/META/awsmap.csv\")"
   ]
  },
  {
   "cell_type": "code",
   "execution_count": 9,
   "metadata": {},
   "outputs": [],
   "source": [
    "pm_dict = defaultdict(list)\n",
    "for _, pm in df_pm.iterrows():\n",
    "  pm_loc = (pm.Latitude, pm.Longitude)\n",
    "  for _, aws in df_aws.iterrows():\n",
    "    aws_loc = (aws.Latitude, aws.Longitude)\n",
    "    dist = haversine(pm_loc, aws_loc, unit='km')\n",
    "    pm_dict[pm.Location].append((aws.Location, dist))\n",
    "  pm_dict[pm.Location] = sorted(pm_dict[pm.Location], key=lambda x: x[1])[:3]"
   ]
  },
  {
   "cell_type": "code",
   "execution_count": 10,
   "metadata": {},
   "outputs": [
    {
     "name": "stdout",
     "output_type": "stream",
     "text": [
      "아름동 [('세종고운', 0.5959398623781422), ('세종금남', 0.20935575535139192), ('세종연서', 0.19470438227046594)]\n",
      "신흥동 [('세종연서', 0.623771911782061), ('세종고운', 0.23437985962111915), ('세종전의', 0.14184822859681984)]\n",
      "노은동 [('계룡', 0.37215720734940244), ('세종금남', 0.31442215528240247), ('오월드', 0.313420637368195)]\n",
      "문창동 [('오월드', 0.43792606175001325), ('세천', 0.36840926563842336), ('장동', 0.19366467261156328)]\n",
      "읍내동 [('장동', 0.4600092574298802), ('세천', 0.29439745524012173), ('오월드', 0.2455932873299979)]\n",
      "정림동 [('오월드', 0.6611945451443386), ('계룡', 0.17462776824421944), ('세천', 0.16417768661144194)]\n",
      "공주 [('공주', 0.595096232672347), ('정안', 0.21560028832884157), ('세종금남', 0.18930347899881153)]\n",
      "논산 [('논산', 0.8106894830885594), ('계룡', 0.10161496038210217), ('양화', 0.0876955565293385)]\n",
      "대천2동 [('대천항', 0.5364383656912503), ('청양', 0.24341489240638425), ('춘장대', 0.22014674190236547)]\n",
      "독곶리 [('대산', 0.805639758960593), ('안도', 0.10337714448943511), ('당진', 0.090983096549972)]\n",
      "동문동 [('태안', 0.42383826452678564), ('당진', 0.3223343628472369), ('홍북', 0.2538273726259775)]\n",
      "모종동 [('아산', 0.3665049233697947), ('성거', 0.33423205479638257), ('예산', 0.29926302183382286)]\n",
      "신방동 [('성거', 0.4233387535096642), ('세종전의', 0.37873043302897264), ('아산', 0.19793081346136326)]\n",
      "예산군 [('예산', 0.5326095761484639), ('유구', 0.24550618666774907), ('아산', 0.221884237183787)]\n",
      "이원면 [('태안', 0.38998768925871385), ('안도', 0.3455141387600907), ('대산', 0.2644981719811954)]\n",
      "홍성읍 [('홍북', 0.7537093709927019), ('홍성죽도', 0.12481964368426245), ('예산', 0.1214709853230357)]\n",
      "성성동 [('성거', 0.6985976183654422), ('세종전의', 0.17642014446434248), ('아산', 0.12498223717021528)]\n"
     ]
    }
   ],
   "source": [
    "for k,v in pm_dict.items():\n",
    "  s = sum([1 / j for i, j in v])\n",
    "  w = [(i, 1 / (j * s)) for i, j in v]\n",
    "  print(k, w)"
   ]
  },
  {
   "cell_type": "code",
   "execution_count": 13,
   "metadata": {},
   "outputs": [],
   "source": [
    "os.makedirs(f\"../dataset/CUSTOM_v1\", exist_ok=True)\n",
    "for pm, aws_list in pm_dict.items():\n",
    "    df_pm = pd.read_csv(f\"../dataset/TRAIN/{pm}.csv\")\n",
    "    df_pm[\"PM2.5\"] = df_pm[\"PM2.5\"].interpolate()\n",
    "    df_pm.fillna(method=\"bfill\", inplace=True)\n",
    "    \n",
    "    aws_dfs = []\n",
    "    aws_dists = []\n",
    "    for aws_name, aws_weight in aws_list:\n",
    "        df = pd.read_csv(f\"../dataset/TRAIN_AWS/{aws_name}.csv\")\n",
    "        df.interpolate(inplace=True)\n",
    "        df.fillna(method=\"bfill\", inplace=True)\n",
    "        aws_dfs.append(df)\n",
    "        aws_dists.append(aws_weight)\n",
    "        \n",
    "    aws_weights = [round(1 / w, 5) for w in aws_dists]\n",
    "    s = sum(aws_weights)\n",
    "    aws_weights = [round(1 / (w * s), 5) for w in aws_weights]\n",
    "    \n",
    "    cols = [np.zeros(len(df_pm)) for _ in range(5)]\n",
    "    for aws_df, w in zip(aws_dfs, aws_weights):\n",
    "        cols[0] += np.array(aws_df[\"기온(°C)\"]) * w\n",
    "        cols[1] += np.array(aws_df[\"풍향(deg)\"]) * w\n",
    "        cols[2] += np.array(aws_df[\"풍속(m/s)\"]) * w\n",
    "        cols[3] += np.array(aws_df[\"강수량(mm)\"]) * w\n",
    "        cols[4] += np.array(aws_df[\"습도(%)\"]) * w\n",
    "\n",
    "    df_pm[\"기온(°C)\"] = cols[0]\n",
    "    df_pm[\"풍향(deg)\"] = cols[1]\n",
    "    df_pm[\"풍속(m/s)\"] = cols[2]\n",
    "    df_pm[\"강수량(mm)\"] = cols[3]\n",
    "    df_pm[\"습도(%)\"] = cols[4]\n",
    "    # change wind info to vector\n",
    "    df_pm[\"풍향(deg)\"] = df_pm[\"풍향(deg)\"].apply(lambda x: x * 359)\n",
    "    wv = df_pm['풍속(m/s)'].values\n",
    "    wd_rad = df_pm['풍향(deg)'].values * np.pi / 180\n",
    "    df_pm['Wx'] = wv*np.cos(wd_rad)\n",
    "    df_pm['Wy'] = wv*np.sin(wd_rad)\n",
    "    df_pm.drop(columns=[\"풍향(deg)\", \"풍속(m/s)\"], inplace=True)\n",
    "    df_pm.to_csv(f\"../dataset/CUSTOM_v1/{pm}.csv\", index=False)"
   ]
  },
  {
   "cell_type": "code",
   "execution_count": null,
   "metadata": {},
   "outputs": [],
   "source": []
  }
 ],
 "metadata": {
  "kernelspec": {
   "display_name": "aifactory-cLCMmIYn",
   "language": "python",
   "name": "python3"
  },
  "language_info": {
   "codemirror_mode": {
    "name": "ipython",
    "version": 3
   },
   "file_extension": ".py",
   "mimetype": "text/x-python",
   "name": "python",
   "nbconvert_exporter": "python",
   "pygments_lexer": "ipython3",
   "version": "3.9.13"
  },
  "orig_nbformat": 4
 },
 "nbformat": 4,
 "nbformat_minor": 2
}
